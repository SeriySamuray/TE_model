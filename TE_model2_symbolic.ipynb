{
 "cells": [
  {
   "cell_type": "code",
   "execution_count": 1,
   "id": "ff944ed9-815e-46ab-80b9-242b713cfb52",
   "metadata": {},
   "outputs": [],
   "source": [
    "import os\n",
    "import numpy as np\n",
    "import pandas as pd\n",
    "from tqdm import tqdm\n",
    "import pickle\n",
    "import copy as cp\n",
    "from math import *\n",
    "import datetime as dt\n",
    "import matplotlib.pyplot as plt\n",
    "from pylab import rcParams\n",
    "import seaborn as sns\n",
    "#\n",
    "import scipy\n",
    "import scipy.integrate as integrate\n",
    "from scipy.optimize import root\n",
    "from scipy.optimize import least_squares\n",
    "from numpy import linalg as LA\n",
    "import sympy as sym"
   ]
  },
  {
   "cell_type": "code",
   "execution_count": 2,
   "id": "0dc0482c-996d-4711-83d6-e68faeb5d02c",
   "metadata": {},
   "outputs": [],
   "source": [
    "# write list to binary file\n",
    "def write2pickle(file, fname):\n",
    "    # store list in binary file so 'wb' mode\n",
    "    with open(fname, 'wb') as f:\n",
    "        pickle.dump(file, f)\n",
    "        print('Done writing list into a binary file')\n",
    "\n",
    "# Read list to memory\n",
    "def read_pickle(fname):\n",
    "    # for reading also binary mode is important\n",
    "    with open(fname, 'rb') as f:\n",
    "        file = pd.read_pickle(f)\n",
    "        return file\n",
    "\n",
    "# Chech directories exit. Create if not\n",
    "def check_dir_exist(path):\n",
    "    if not os.path.isdir(path):\n",
    "        os.makedirs(path, exist_ok=True)"
   ]
  },
  {
   "cell_type": "code",
   "execution_count": 3,
   "id": "6cc0cdaa-41b2-408d-af5a-c779bd83721a",
   "metadata": {},
   "outputs": [],
   "source": [
    "# This is to enable inline displays\n",
    "%matplotlib inline\n",
    "%config InlineBackend.figure_formats = {'png', 'retina'}\n",
    "\n",
    "# Plot parameters\n",
    "rcParams['figure.figsize'] = 6,4\n",
    "\n",
    "# Seaborn settings for notebook\n",
    "rc = {'lines.linewidth': 1.,\n",
    "      'axes.titlesize': 14,\n",
    "      'axes.labelsize': 14,\n",
    "      'xtick.labelsize': 10,\n",
    "      'ytick.labelsize': 10,\n",
    "      'legend.fontsize': 10,\n",
    "      'savefig.dpi': 300,\n",
    "      'axes.facecolor': 'white'}\n",
    "sns.set_context('notebook', rc=rc)\n",
    "sns.set_style('ticks', rc=rc)"
   ]
  },
  {
   "cell_type": "code",
   "execution_count": 4,
   "id": "16b067dd-17d9-45f0-92e5-b760a7267380",
   "metadata": {},
   "outputs": [],
   "source": [
    "# Set directories\n",
    "path = \"../data/\"\n",
    "\n",
    "# Set colors\n",
    "colormap = ['magenta',\n",
    "           'darkcyan',\n",
    "           'darkseagreen',\n",
    "           'green',\n",
    "           'royalblue',\n",
    "           'orangered',\n",
    "           'steelblue',\n",
    "           'peru',\n",
    "           'skyblue',\n",
    "           'firebrick',\n",
    "           'blue',\n",
    "           'red']"
   ]
  },
  {
   "cell_type": "markdown",
   "id": "e0738d56-7644-4fd9-a7ca-40bd31649bb2",
   "metadata": {},
   "source": [
    "# Set model"
   ]
  },
  {
   "cell_type": "code",
   "execution_count": 5,
   "id": "12ebdaf1-abae-45dd-afd8-8752926a8e14",
   "metadata": {},
   "outputs": [],
   "source": [
    "# Set dictionary with parameter names (for plotting)\n",
    "par_dict_names = {\n",
    "    \"Ng\"       : '$N_g$',\n",
    "    \"Q\"        : '$Q$',    \n",
    "    \"nq\"       : '$n_q$',\n",
    "    \"nQ\"       : '$n_Q$',\n",
    "    \"nL\"       : '$n_L$',\n",
    "    \"nS\"       : '$n_S$',\n",
    "    \"Naa\"      : '$N_{aa}$',\n",
    "    \"Nnt\"      : '$N_{nt}$',\n",
    "    \"tdiv\"      : r'$\\tau$',\n",
    "    #\n",
    "    \"rtot\"     : '$r_{tot}$',\n",
    "    \"A0\"       : '$A_0$',\n",
    "    \"Xi_max_L\" : r'$\\chi_L$',\n",
    "    \"Xi_max_S\" : r'$\\chi_S$',\n",
    "    \"K_Xi_L\"   : r'$K_{\\chi L}$',\n",
    "    \"K_Xi_S\"   : r'$K_{\\chi S}$',\n",
    "    \"KL\"       : '$K_L$',\n",
    "    \"wq\"       : '$w_q$',\n",
    "    \"wL\"       : '$w_L$',\n",
    "    \"wS\"       : '$w_S$',\n",
    "    \"Th_nr_q\"  : r'$\\theta_q$',\n",
    "    \"Th_nr_L\"  : r'$\\theta_L$',\n",
    "    \"Th_nr_S\"  : r'$\\theta_S$',\n",
    "    \"gm_max_q\" : r'$\\gamma_q$',\n",
    "    \"gm_max_L\" : r'$\\gamma_L$',\n",
    "    \"K_gm_q\"   : r'$K_{\\gamma q}$',\n",
    "    \"K_gm_L\"   : r'$K_{\\gamma L}$',\n",
    "    \"k_bq\"     : '$k_{bq}$',\n",
    "    \"k_bL\"     : '$k_{bL}$',\n",
    "    \"k_uq\"     : '$k_{uq}$',\n",
    "    \"k_uL\"     : '$k_{uL}$',\n",
    "    \"k_subS\"   : '$k_{subS}$',\n",
    "    \"k_subL\"   : '$k_{subL}$',\n",
    "    \"d_mq\"     : '$d_{mq}$',\n",
    "    \"d_cq\"     : '$d_{cq}$',\n",
    "    \"d_q\"      : '$d_{q}$',\n",
    "    \"d_mL\"     : '$d_{mL}$',\n",
    "    \"d_mS\"     : '$d_{mS}$',\n",
    "    \"d_cL\"     : '$d_{cL}$',\n",
    "    \"d_O1\"     : '$d_{O1}$',\n",
    "    \"d_bL\"     : '$d_{bL}$',\n",
    "    \"d_bS\"     : '$d_{bS}$',\n",
    "    #\n",
    "    \"lmd_a\"    : r'$\\lambda_a$',\n",
    "    \"lmd_L\"    : r'$\\lambda_L$',\n",
    "    \"lmd_S\"    : r'$\\lambda_S$'\n",
    "}"
   ]
  },
  {
   "cell_type": "code",
   "execution_count": 6,
   "id": "9cb648c4-be93-428c-90d8-19c8998f875c",
   "metadata": {},
   "outputs": [],
   "source": [
    "# Wild type values\n",
    "awt = 2408e9  # characteristic number of ATP\n",
    "Lwt = 1064.   # number of LINE-1 in wild type\n",
    "Swt = 13243.  # number of SINE in wild type\n",
    "\n",
    "# expected observables under normal conditions:\n",
    "a0,mq0,cq0,q0,mL0,mS0,cL0,O10,bL0,bS0,L0,S0 = np.array([2.40931696e+12, 1.01120553e+07, 3.86703330e+06, 4.74721425e+09,\n",
    "       1.31903161e+05, 2.00641730e+08, 2.20941873e+05, 5.74596157e+07,\n",
    "       4.01203844e+03, 1.16324573e+04, 1.05977067e+03, 1.31865310e+04])\n",
    "\n",
    "# Steady state reference\n",
    "y0 = np.array([a0,mq0,cq0,q0,mL0,mS0,cL0,O10,bL0,bS0,L0,S0])\n",
    "\n",
    "### Constants: ###\n",
    "Ng       = 3.08e9  # total genome size [bp]\n",
    "Q        = 3804.   # number of housekeeping genes\n",
    "nq       = 431.    # median HeLa cell protein length [aa]\n",
    "nQ       = 1300.   # median HeLa housekeeping gene length [bp]\n",
    "nL       = 6000.   # LINE-1 length [bp]\n",
    "nS       = 300.    # SINE length [bp]\n",
    "Naa      = 5.      # number of ATP molecules for adding a.a. [m.p.c. - mol. per cell]\n",
    "Nnt      = 15.     # number of ATP molecules for adding nt. [m.p.c.]\n",
    "tdiv     = 22.*60  # HeLa cell cycle duration, in minutes [min] ( == 1320 min )\n",
    "\n",
    "### Parameter values: ###\n",
    "rtot     = 9.5e6   # total number of ribosomes [m.p.c.]\n",
    "A0       = 1.31e10 # energy supply [m.p.c./min]\n",
    "Xi_max_L = 840.    # maximal integration elongation rate of one LINE-1 transposon [bp/(m.p.c.*min)]\n",
    "Xi_max_S = 840.    # maximal integration elongation rate of one SINE transposon [bp/(m.p.c.*min)]\n",
    "K_Xi_L   = 1.1e7   # integration elongation threshold of LINE-1 transposons [m.p.c.]\n",
    "K_Xi_S   = 1.1e7   # integration elongation threshold of SINE transposons [m.p.c.]\n",
    "KL       = 2.24e-3 # association constant of LINE-1 mRNA with ORF1p [1/m.p.c.]\n",
    "wq       = 4.64    # maximal transcription rate of one gene [m.p.c./min]\n",
    "wL       = 1.      # maximal transcription rate of one LINE-1 [m.p.c./min]\n",
    "wS       = 20.     # maximal transcription rate of one SINE [m.p.c./min]\n",
    "Th_nr_q  = 3.8e9   # transcription threshold of one gene [m.p.c.]\n",
    "Th_nr_L  = 3.8e9   # transcription threshold of one LINE-1 [m.p.c.]\n",
    "Th_nr_S  = 3.8e9   # transcription threshold of one SINE [m.p.c.]\n",
    "gm_max_q = 300.    # maximal translation rate of q-RNA (aa/min) [a.a./(m.p.c.*min)]\n",
    "gm_max_L = 300.    # maximal translation rate of LINE-1 RNA (aa/min) [a.a./(m.p.c.*min)]\n",
    "K_gm_q   = 25900.  # translation threshold of one q-RNA [m.p.c.]\n",
    "K_gm_L   = 25900.  # translation threshold of one LINE-1 RNA [m.p.c.]\n",
    "k_bq     = 5e-8    # 2.7e-2 # cq complexes binding rate constant (diffusion limit) [1/(m.p.c.*min)]\n",
    "k_bL     = 5e-8    # 2.7e-2 # cL complexes binding rate constant (diffusion limit) [1/(m.p.c.*min)]\n",
    "k_uq     = 1e-2    # 1e3 # cq complexes unbinding rate constant\n",
    "k_uL     = 1e-2    # 1e3 # cL complexes unbinding rate constant\n",
    "k_subS   = 5e-8    # 6e-8 # bS formation (ORFp2+mS) substitution of mL\n",
    "k_subL   = 5e-6    # 6e-8 # bL formation (ORFp2+mL) substitution of mS\n",
    "d_mq     = 1.15e-3 # q-RNAs degradation rate constant [1/min]\n",
    "d_cq     = 1.55e-3 # cq complexes degradation rate constant [1/min]\n",
    "d_q      = 5.67e-4 # q proteins degradation rate constant [1/min]\n",
    "d_mL     = 1.15e-3 # LINE-1 RNAs degradation rate constant [1/min]\n",
    "d_mS     = 1.15e-3 # ! # SINE RNAs degradation rate constant [1/min]\n",
    "d_cL     = 1.55e-3 # cL complexes degradation rate constant [1/min]\n",
    "d_O1     = 5.67e-4 # ORF1p degradation rate constant [1/min]\n",
    "d_bL     = 5.67e-4 # bL complexes degradation rate constant [1/min]\n",
    "d_bS     = 5.67e-4 # bS complexes degradation rate constant [1/min]\n",
    "#\n",
    "lmd_a    = 2.04e-3 # ATP molecules degradation rate constant [1/min]\n",
    "lmd_L    = 0.53    # LINE-1 deactivation rate constant [1/min]\n",
    "lmd_S    = 2.47    # SINE deactivation rate constant [1/min]\n",
    "\n",
    "# Add some\n",
    "rib = rtot - cq0 - cL0 # number of free ribosomes\n",
    "vrepl_max = Nnt*(Ng/tdiv)/0.8\n",
    "k_vrepl = 0.25*a0"
   ]
  },
  {
   "cell_type": "code",
   "execution_count": 7,
   "id": "159ed939-11d2-4425-b793-8117f73d25ab",
   "metadata": {},
   "outputs": [],
   "source": [
    "# Set dictionary with parameters\n",
    "par_dict = {\n",
    "    \"Ng\"       : Ng,\n",
    "    \"Q\"        : Q,    \n",
    "    \"nq\"       : nq,\n",
    "    \"nQ\"       : nQ,\n",
    "    \"nL\"       : nL,\n",
    "    \"nS\"       : nS,\n",
    "    \"Naa\"      : Naa,\n",
    "    \"Nnt\"      : Nnt,\n",
    "    \"tdiv\"     : tdiv,\n",
    "    #\n",
    "    \"rtot\"     : rtot,\n",
    "    \"A0\"       : A0,\n",
    "    \"Xi_max_L\" : Xi_max_L,\n",
    "    \"Xi_max_S\" : Xi_max_S,\n",
    "    \"K_Xi_L\"   : K_Xi_L,\n",
    "    \"K_Xi_S\"   : K_Xi_S,\n",
    "    \"KL\"       : KL,\n",
    "    \"wq\"       : wq,\n",
    "    \"wL\"       : wL,\n",
    "    \"wS\"       : wS,\n",
    "    \"Th_nr_q\"  : Th_nr_q,\n",
    "    \"Th_nr_L\"  : Th_nr_L,\n",
    "    \"Th_nr_S\"  : Th_nr_S,\n",
    "    \"gm_max_q\" : gm_max_q,\n",
    "    \"gm_max_L\" : gm_max_L,\n",
    "    \"K_gm_q\"   : K_gm_q,\n",
    "    \"K_gm_L\"   : K_gm_L ,\n",
    "    \"k_bq\"     : k_bq,\n",
    "    \"k_bL\"     : k_bL,\n",
    "    \"k_uq\"     : k_uq,\n",
    "    \"k_uL\"     : k_uL,\n",
    "    \"k_subS\"   : k_subS,\n",
    "    \"k_subL\"   : k_subL,\n",
    "    \"d_mq\"     : d_mq,\n",
    "    \"d_cq\"     : d_cq,\n",
    "    \"d_q\"      : d_q,\n",
    "    \"d_mL\"     : d_mL,\n",
    "    \"d_mS\"     : d_mS,\n",
    "    \"d_cL\"     : d_cL,\n",
    "    \"d_O1\"     : d_O1,\n",
    "    \"d_bL\"     : d_bL,\n",
    "    \"d_bS\"     : d_bS,\n",
    "    #\n",
    "    \"lmd_a\"    : lmd_a,\n",
    "    \"lmd_L\"    : lmd_L,\n",
    "    \"lmd_S\"    : lmd_S\n",
    "}\n",
    "\n",
    "# Copy dictionary\n",
    "pdict = cp.deepcopy(par_dict)"
   ]
  },
  {
   "cell_type": "code",
   "execution_count": 8,
   "id": "417b9779-ff60-4b7d-af4b-9234dc2ecddd",
   "metadata": {},
   "outputs": [],
   "source": [
    "# Set symbols\n",
    "a,mq,cq,q,mL,mS,cL,O1,bL,bS,L,S = sym.symbols(r'a,mq,cq,q,mL,mS,cL,O1,bL,bS,L,S')\n",
    "Ng,Q,nq,nQ,nL,nS,Naa,Nnt,tdiv = sym.symbols(r'Ng,Q,nq,nQ,nL,nS,Naa,Nnt,tdiv')\n",
    "rtot,A0,Xi_max_L,Xi_max_S,K_Xi_L,K_Xi_S,KL = sym.symbols(r'rtot,A0,Xi_max_L,Xi_max_S,K_Xi_L,K_Xi_S,KL')\n",
    "wq,wL,wS,Th_nr_q,Th_nr_L,Th_nr_S = sym.symbols(r'wq,wL,wS,Th_nr_q,Th_nr_L,Th_nr_S')\n",
    "gm_max_q,gm_max_L,K_gm_q,K_gm_L = sym.symbols(r'gm_max_q,gm_max_L,K_gm_q,K_gm_L')\n",
    "k_bq,k_bL,k_uq,k_uL,k_subS,k_subL = sym.symbols(r'k_bq,k_bL,k_uq,k_uL,k_subS,k_subL,')\n",
    "d_mq,d_cq,d_q,d_mL,d_mS,d_cL,d_O1,d_bL,d_bS = sym.symbols(r'd_mq,d_cq,d_q,d_mL,d_mS,d_cL,d_O1,d_bL,d_bS')\n",
    "lmd_a,lmd_L,lmd_S = sym.symbols(r'lmd_a,lmd_L,lmd_S')\n",
    "# variables\n",
    "var = a,mq,cq,q,mL,mS,cL,O1,bL,bS,L,S"
   ]
  },
  {
   "cell_type": "code",
   "execution_count": 9,
   "id": "c833fb22-6f14-4d57-9e75-f1a8aa1db9bf",
   "metadata": {},
   "outputs": [],
   "source": [
    "# translation rates:\n",
    "def vq(cq_, a_):\n",
    "    return gm_max_q/nq*cq_*a_/(K_gm_q+a_)\n",
    "\n",
    "def vL(cL_,a_):\n",
    "    return gm_max_L/(nL/3)*cL_*a_/(K_gm_L+a_)\n",
    "\n",
    "# integration rates:\n",
    "def vintL(bL_,O1_,a_):\n",
    "    return Xi_max_L/nL * bL_*a_/(K_Xi_L+a_)*KL*O1_/(1+KL*O1_)\n",
    "\n",
    "def vintS(bS_,a_):\n",
    "    return Xi_max_S/nS * bS_*a_/(K_Xi_S+a_)\n",
    "\n",
    "# transcription rates:\n",
    "def om_q(a_):\n",
    "    return Q*wq*a_/(Th_nr_q+a_)\n",
    "\n",
    "def om_L(L_,a_):\n",
    "    return L_*wL*a_/(Th_nr_L+a_)\n",
    "\n",
    "def om_S(S_,a_):\n",
    "    return S_*wS*a_/(Th_nr_S+a_)\n",
    "\n",
    "# replication:\n",
    "# def vreplf(a_):\n",
    "#     return vrepl_max*a_/(a_+k_vrepl)\n",
    "\n",
    "# replication:\n",
    "def vreplf(a_,bL_,O1_,bS_):\n",
    "    return Nnt*(Ng/tdiv + vintL(bL_,O1_,a_)*nL + vintS(bS_,a_)*nS)\n",
    "\n",
    "# ribosomes:\n",
    "def ribf(cq_,cL_):\n",
    "    return rtot-cq_-cL_"
   ]
  },
  {
   "cell_type": "markdown",
   "id": "03ce4951-aaa2-4635-be79-690ca99df755",
   "metadata": {},
   "source": [
    "# Check stability"
   ]
  },
  {
   "cell_type": "code",
   "execution_count": 10,
   "id": "c0b02d78-c396-437d-bad8-7175b283adca",
   "metadata": {},
   "outputs": [],
   "source": [
    "# Function for minimization\n",
    "def solve_sym(y):\n",
    "    a_,mq_,cq_,q_,mL_,mS_,cL_,O1_,bL_,bS_,L_,S_ = y\n",
    "    eqs = [ A0 - lmd_a*a_ - vreplf(a_,bL_,O1_,bS_) # energy supply + ATP degradation + replication\n",
    "           - Nnt * ( om_q(a_)*(nQ) + om_S(S_,a_)*nS + om_L(L_,a_)*nL ) # transcription\n",
    "           - Naa * ( vq(cq_,a_)*nq + vL(cL_,a_)*(nL/3) ) # translation\n",
    "           - Nnt * ( vintL(bL_,O1_,a_)*nL + vintS(bS_,a_)*nS ), # integration # da/dt\n",
    "            om_q(a_) - k_bq*ribf(cq_,cL_)*mq_ + vq(cq_,a_) + k_uq*cq_ - d_mq*mq_, # dmq/dt\n",
    "            k_bq*ribf(cq_,cL_)*mq_  - k_uq*cq_ - vq(cq_,a_) - d_cq*cq_, # dcq/dt\n",
    "            vq(cq_,a_) - d_q*q_, # dq/dt\n",
    "            om_L(L_,a_) - k_bL*ribf(cq_,cL_)*mL_ + k_uL*cL_ + k_subS*mS_*bL_ - k_subL*mL_*bS_ - d_mL*mL_, # dmL/dt\n",
    "            om_S(S_,a_) + k_subL*mL_*bS_ - k_subS*mS_*bL_ - d_mS*mS_, # dmS/dt\n",
    "            k_bL*ribf(cq_,cL_)*mL_  - k_uL*cL_ - vL(cL_,a_) - d_cL*cL_, # dcL/dt\n",
    "            vL(cL_,a_) - vintL(bL_,O1_,a_) - d_O1*O1_, # dO1/dt\n",
    "            vL(cL_,a_) + k_subL*mL_*bS_ - vintL(bL_,O1_,a_) - k_subS*mS_*bL_ - d_bL*bL_, # dbL/dt\n",
    "            k_subS*mS_*bL_ - k_subL*mL_*bS_ - vintS(bS_,a_) - d_bS*bS_, # dbS/dt\n",
    "            vintL(bL_,O1_,a_) - lmd_L*L_, # dL/dt\n",
    "            vintS(bS_,a_) - lmd_S*S_ # dS/dt\n",
    "           ]\n",
    "    eqs = sym.Matrix(eqs)\n",
    "    eqs = eqs.subs(par_dict)\n",
    "    return eqs"
   ]
  },
  {
   "cell_type": "markdown",
   "id": "c60389f8-0108-4415-9d4b-8d7fe2f8ca52",
   "metadata": {},
   "source": [
    "## Check stability for reference"
   ]
  },
  {
   "cell_type": "code",
   "execution_count": 11,
   "id": "42fe20ec-00ed-418a-a197-a3585841b613",
   "metadata": {},
   "outputs": [],
   "source": [
    "# Stable solution\n",
    "incond = np.array([2.40931696e+12, 1.01120553e+07, 3.86703330e+06, 4.74721425e+09,\n",
    "       1.31903161e+05, 2.00641730e+08, 2.20941873e+05, 5.74596157e+07,\n",
    "       4.01203844e+03, 1.16324573e+04, 1.05977067e+03, 1.31865310e+04]) # referennce"
   ]
  },
  {
   "cell_type": "code",
   "execution_count": 12,
   "id": "7d243bf3-faad-42c5-be30-a49e23f431d7",
   "metadata": {},
   "outputs": [
    {
     "data": {
      "text/plain": [
       "{a: 2409316960000.0,\n",
       " mq: 10112055.3,\n",
       " cq: 3867033.3,\n",
       " q: 4747214250.0,\n",
       " mL: 131903.161,\n",
       " mS: 200641730.0,\n",
       " cL: 220941.873,\n",
       " O1: 57459615.7,\n",
       " bL: 4012.03844,\n",
       " bS: 11632.4573,\n",
       " L: 1059.77067,\n",
       " S: 13186.531}"
      ]
     },
     "execution_count": 12,
     "metadata": {},
     "output_type": "execute_result"
    }
   ],
   "source": [
    "# Get dict. with stable solution\n",
    "res_dict = {}\n",
    "for i,v in enumerate(var):\n",
    "    # print(i,v)\n",
    "    res_dict[v] = incond[i]\n",
    "# print\n",
    "res_dict"
   ]
  },
  {
   "cell_type": "code",
   "execution_count": 13,
   "id": "85c855ef-0d1a-4a56-b436-6409c0eff3d2",
   "metadata": {},
   "outputs": [
    {
     "name": "stdout",
     "output_type": "stream",
     "text": [
      "Stable: True\n",
      "Eigenvalues(12):\n",
      " [-5.67000000e-04+0.j        -1.10989747e+01+0.j\n",
      " -1.48693176e+00+0.j        -2.59738350e+00+0.j\n",
      " -2.46027609e+00+0.j        -4.52533775e-01+0.j\n",
      " -5.18910646e-01+0.j        -2.03577087e-03+0.j\n",
      " -1.22688170e-03+0.j        -4.29329020e-04+0.0010313j\n",
      " -4.29329020e-04-0.0010313j -5.66996785e-04+0.j       ]\n"
     ]
    }
   ],
   "source": [
    "# check stability\n",
    "M = solve_sym(var).jacobian(var)\n",
    "Msub = M.subs(res_dict)\n",
    "Msub_np = np.array(Msub).astype(np.float64)\n",
    "eig_w, eig_v = LA.eig(Msub_np)\n",
    "print('Stable:', (eig_w<0).all())\n",
    "print(f'Eigenvalues({len(eig_w)}):\\n', eig_w)"
   ]
  },
  {
   "cell_type": "markdown",
   "id": "0781dba1-2145-4da8-83d0-829e0870de78",
   "metadata": {},
   "source": [
    "## Check stability knock-S"
   ]
  },
  {
   "cell_type": "code",
   "execution_count": 14,
   "id": "42a0eb38-93ce-4830-ad9a-e445886bfb89",
   "metadata": {},
   "outputs": [],
   "source": [
    "# Stable solution\n",
    "incond = np.array([4.45330083e+09, 5.01078199e+06, 2.42674665e+06, 2.97908462e+09,\n",
    "                   1.03404963e+05, 0, 2.19353478e+05, 2.35091844e+05, \n",
    "                   2.35091844e+05, 0, 6.18293081e+04, 0]) # knock-S"
   ]
  },
  {
   "cell_type": "code",
   "execution_count": 15,
   "id": "6efef020-6c8d-4859-9253-a9bec16cb9ca",
   "metadata": {},
   "outputs": [
    {
     "data": {
      "text/plain": [
       "{a: 4453300830.0,\n",
       " mq: 5010781.99,\n",
       " cq: 2426746.65,\n",
       " q: 2979084620.0,\n",
       " mL: 103404.963,\n",
       " mS: 0.0,\n",
       " cL: 219353.478,\n",
       " O1: 235091.844,\n",
       " bL: 235091.844,\n",
       " bS: 0.0,\n",
       " L: 61829.3081,\n",
       " S: 0.0}"
      ]
     },
     "execution_count": 15,
     "metadata": {},
     "output_type": "execute_result"
    }
   ],
   "source": [
    "# Get dict. with stable solution\n",
    "res_dict = {}\n",
    "for i,v in enumerate(var):\n",
    "    # print(i,v)\n",
    "    res_dict[v] = incond[i]\n",
    "# print\n",
    "res_dict"
   ]
  },
  {
   "cell_type": "code",
   "execution_count": 16,
   "id": "95107140-8c08-44ec-987a-f6634cbb9434",
   "metadata": {},
   "outputs": [
    {
     "name": "stdout",
     "output_type": "stream",
     "text": [
      "Stable: False\n",
      "Eigenvalues(12):\n",
      " [-5.67000000e-04+0.j         -1.30311555e+00+0.j\n",
      " -6.30901677e-01+0.j         -4.03644612e-01+0.23595195j\n",
      " -4.03644612e-01-0.23595195j -1.24670387e-03+0.j\n",
      " -3.75796117e-02+0.15916672j -3.75796117e-02-0.15916672j\n",
      " -3.14506613e+00+0.j         -2.67982957e+00+0.j\n",
      "  3.12984738e-02+0.j         -5.67000000e-04+0.j        ]\n"
     ]
    }
   ],
   "source": [
    "# check stability in base system\n",
    "M = solve_sym(var).jacobian(var)\n",
    "Msub = M.subs(res_dict)\n",
    "Msub_np = np.array(Msub).astype(np.float64)\n",
    "eig_w, eig_v = LA.eig(Msub_np)\n",
    "print('Stable:', (eig_w<0).all())\n",
    "print(f'Eigenvalues({len(eig_w)}):\\n', eig_w)"
   ]
  },
  {
   "cell_type": "code",
   "execution_count": 17,
   "id": "a2d31119-8c10-4fc5-af2c-3d89029b1149",
   "metadata": {},
   "outputs": [],
   "source": [
    "# Function for minimization\n",
    "def solve_sym_knock_S(y):\n",
    "    a_,mq_,cq_,q_,mL_,cL_,O1_,bL_,L_ = y\n",
    "    eqs = [ A0 - lmd_a*a_ - vreplf(a_,bL_,O1_,0.) # energy supply + ATP degradation + replication\n",
    "           - Nnt * ( om_q(a_)*(nQ) + om_L(L_,a_)*nL ) # transcription\n",
    "           - Naa * ( vq(cq_,a_)*nq + vL(cL_,a_)*(nL/3) ) # translation\n",
    "           - Nnt * ( vintL(bL_,O1_,a_)*nL ), # integration # da/dt\n",
    "            om_q(a_) - k_bq*ribf(cq_,cL_)*mq_ + vq(cq_,a_) + k_uq*cq_ - d_mq*mq_, # dmq/dt\n",
    "            k_bq*ribf(cq_,cL_)*mq_  - k_uq*cq_ - vq(cq_,a_) - d_cq*cq_, # dcq/dt\n",
    "            vq(cq_,a_) - d_q*q_, # dq/dt\n",
    "            om_L(L_,a_) - k_bL*ribf(cq_,cL_)*mL_ + k_uL*cL_ - d_mL*mL_, # dmL/dt\n",
    "            k_bL*ribf(cq_,cL_)*mL_  - k_uL*cL_ - vL(cL_,a_) - d_cL*cL_, # dcL/dt\n",
    "            vL(cL_,a_) - vintL(bL_,O1_,a_) - d_O1*O1_, # dO1/dt\n",
    "            vL(cL_,a_) - vintL(bL_,O1_,a_) - d_bL*bL_, # dbL/dt\n",
    "            vintL(bL_,O1_,a_) - lmd_L*L_ # dL/dt\n",
    "           ]\n",
    "    eqs = sym.Matrix(eqs)\n",
    "    eqs = eqs.subs(par_dict)\n",
    "    return eqs"
   ]
  },
  {
   "cell_type": "code",
   "execution_count": 18,
   "id": "b40f7d87-e197-47e5-bdc9-f63166b7dcc7",
   "metadata": {},
   "outputs": [
    {
     "name": "stdout",
     "output_type": "stream",
     "text": [
      "Stable: True\n",
      "Eigenvalues(9):\n",
      " [-5.67000000e-04+0.j         -1.30311555e+00+0.j\n",
      " -6.30901677e-01+0.j         -4.03644612e-01+0.23595195j\n",
      " -4.03644612e-01-0.23595195j -3.75796117e-02+0.15916672j\n",
      " -3.75796117e-02-0.15916672j -1.24670387e-03+0.j\n",
      " -5.67000000e-04+0.j        ]\n"
     ]
    }
   ],
   "source": [
    "# check stability in reduced system\n",
    "var_S = a,mq,cq,q,mL,cL,O1,bL,L\n",
    "M = solve_sym_knock_S(var_S).jacobian(var_S)\n",
    "Msub = M.subs(res_dict)\n",
    "Msub_np = np.array(Msub).astype(np.float64)\n",
    "eig_w, eig_v = LA.eig(Msub_np)\n",
    "print('Stable:', (eig_w<0).all())\n",
    "print(f'Eigenvalues({len(eig_w)}):\\n', eig_w)"
   ]
  },
  {
   "cell_type": "markdown",
   "id": "bb7d2c22-be38-4f0a-bc0e-d7d1be20a173",
   "metadata": {},
   "source": [
    "## Check stability knock-LS"
   ]
  },
  {
   "cell_type": "code",
   "execution_count": 19,
   "id": "9e5ad678-dca0-471e-acaf-f54a6c304845",
   "metadata": {},
   "outputs": [],
   "source": [
    "# Stable solution\n",
    "incond = np.array([5.77673751e+09, 9.84214464e+04, 6.79595113e+06, 8.34274993e+09,\n",
    "       0,0,0,0,\n",
    "       0,0,0,0]) # knock-LS"
   ]
  },
  {
   "cell_type": "code",
   "execution_count": 20,
   "id": "410a7551-8885-4942-8c83-27a13e7a51b4",
   "metadata": {},
   "outputs": [
    {
     "data": {
      "text/plain": [
       "{a: 5776737510.0,\n",
       " mq: 98421.4464,\n",
       " cq: 6795951.13,\n",
       " q: 8342749930.0,\n",
       " mL: 0.0,\n",
       " mS: 0.0,\n",
       " cL: 0.0,\n",
       " O1: 0.0,\n",
       " bL: 0.0,\n",
       " bS: 0.0,\n",
       " L: 0.0,\n",
       " S: 0.0}"
      ]
     },
     "execution_count": 20,
     "metadata": {},
     "output_type": "execute_result"
    }
   ],
   "source": [
    "# Get dict. with stable solution\n",
    "res_dict = {}\n",
    "for i,v in enumerate(var):\n",
    "    # print(i,v)\n",
    "    res_dict[v] = incond[i]\n",
    "# print\n",
    "res_dict"
   ]
  },
  {
   "cell_type": "code",
   "execution_count": 21,
   "id": "ff7e529a-7109-4536-87bb-8198864d483b",
   "metadata": {},
   "outputs": [
    {
     "name": "stdout",
     "output_type": "stream",
     "text": [
      "Stable: True\n",
      "Eigenvalues(12):\n",
      " [-5.67000000e-04+0.j         -5.67000000e-04+0.j\n",
      " -5.67000000e-04+0.j         -8.65262211e-03+0.01094711j\n",
      " -8.65262211e-03-0.01094711j -8.47879470e-01+0.j\n",
      " -1.87819191e-01+0.j         -1.10082580e-01+0.j\n",
      " -1.15000000e-03+0.j         -2.47000000e+00+0.j\n",
      " -2.79524540e+00+0.j         -5.30000000e-01+0.j        ]\n"
     ]
    }
   ],
   "source": [
    "# check stability in base system\n",
    "M = solve_sym(var).jacobian(var)\n",
    "Msub = M.subs(res_dict)\n",
    "Msub_np = np.array(Msub).astype(np.float64)\n",
    "eig_w, eig_v = LA.eig(Msub_np)\n",
    "print('Stable:', (eig_w<0).all())\n",
    "print(f'Eigenvalues({len(eig_w)}):\\n', eig_w)"
   ]
  },
  {
   "cell_type": "code",
   "execution_count": 22,
   "id": "894d770d-7bd8-4fce-aefc-a02238d2aeac",
   "metadata": {},
   "outputs": [],
   "source": [
    "# Function for minimization\n",
    "def solve_sym_knock_LS(y):\n",
    "    a_,mq_,cq_,q_ = y\n",
    "    eqs = [ A0 - lmd_a*a_ - vreplf(a_,0,0,0) # energy supply + ATP degradation + replication\n",
    "           - Nnt * om_q(a_)*nQ  # transcription\n",
    "           - Naa * vq(cq_,a_)*nq,  # translation # da/dt\n",
    "            om_q(a_) - k_bq*ribf(cq_,0)*mq_ + vq(cq_,a_) + k_uq*cq_ - d_mq*mq_, # dmq/dt\n",
    "            k_bq*ribf(cq_,0)*mq_  - k_uq*cq_ - vq(cq_,a_) - d_cq*cq_, # dcq/dt\n",
    "            vq(cq_,a_) - d_q*q_, # dq/dt\n",
    "           ]\n",
    "    eqs = sym.Matrix(eqs)\n",
    "    eqs = eqs.subs(par_dict)\n",
    "    return eqs"
   ]
  },
  {
   "cell_type": "code",
   "execution_count": 23,
   "id": "1ae429dd-1b02-40fd-8db4-b7b7c200bb80",
   "metadata": {},
   "outputs": [
    {
     "name": "stdout",
     "output_type": "stream",
     "text": [
      "Stable: True\n",
      "Eigenvalues(4):\n",
      " [-5.67000000e-04+0.j         -8.47879470e-01+0.j\n",
      " -8.65262211e-03+0.01094711j -8.65262211e-03-0.01094711j]\n"
     ]
    }
   ],
   "source": [
    "# check stability in reduced system\n",
    "var_LS = a,mq,cq,q\n",
    "M = solve_sym_knock_LS(var_LS).jacobian(var_LS)\n",
    "Msub = M.subs(res_dict)\n",
    "Msub_np = np.array(Msub).astype(np.float64)\n",
    "eig_w, eig_v = LA.eig(Msub_np)\n",
    "print('Stable:', (eig_w<0).all())\n",
    "print(f'Eigenvalues({len(eig_w)}):\\n', eig_w)"
   ]
  },
  {
   "cell_type": "markdown",
   "id": "be4c138d-4893-45b4-9377-d9ea4227358a",
   "metadata": {},
   "source": [
    "# Find roots"
   ]
  },
  {
   "cell_type": "code",
   "execution_count": 24,
   "id": "63f3be1d-6175-4350-8583-1a0b73258b91",
   "metadata": {},
   "outputs": [],
   "source": [
    "# Function for minimization\n",
    "def solve_syst(y):\n",
    "    a_,mq_,cq_,q_,mL_,mS_,cL_,O1_,bL_,bS_,L_,S_ = y\n",
    "    eqs = [ A0 - lmd_a*a_ - vreplf(a_,bL_,O1_,bS_) # energy supply + ATP degradation + replication\n",
    "           - Nnt * ( om_q(a_)*(nQ) + om_S(S_,a_)*nS + om_L(L_,a_)*nL ) # transcription\n",
    "           - Naa * ( vq(cq_,a_)*nq + vL(cL_,a_)*(nL/3) ) # translation\n",
    "           - Nnt * ( vintL(bL_,O1_,a_)*nL + vintS(bS_,a_)*nS ), # integration # da/dt\n",
    "            om_q(a_) - k_bq*ribf(cq_,cL_)*mq_ + vq(cq_,a_) + k_uq*cq_ - d_mq*mq_, # dmq/dt\n",
    "            k_bq*ribf(cq_,cL_)*mq_  - k_uq*cq_ - vq(cq_,a_) - d_cq*cq_, # dcq/dt\n",
    "            vq(cq_,a_) - d_q*q_, # dq/dt\n",
    "            om_L(L_,a_) - k_bL*ribf(cq_,cL_)*mL_ + k_uL*cL_ + k_subS*mS_*bL_ - k_subL*mL_*bS_ - d_mL*mL_, # dmL/dt\n",
    "            om_S(S_,a_) + k_subL*mL_*bS_ - k_subS*mS_*bL_ - d_mS*mS_, # dmS/dt\n",
    "            k_bL*ribf(cq_,cL_)*mL_  - k_uL*cL_ - vL(cL_,a_) - d_cL*cL_, # dcL/dt\n",
    "            vL(cL_,a_) - vintL(bL_,O1_,a_) - d_O1*O1_, # dO1/dt\n",
    "            vL(cL_,a_) + k_subL*mL_*bS_ - vintL(bL_,O1_,a_) - k_subS*mS_*bL_ - d_bL*bL_, # dbL/dt\n",
    "            k_subS*mS_*bL_ - k_subL*mL_*bS_ - vintS(bS_,a_) - d_bS*bS_, # dbS/dt\n",
    "            vintL(bL_,O1_,a_) - lmd_L*L_, # dL/dt\n",
    "            vintS(bS_,a_) - lmd_S*S_ # dS/dt\n",
    "           ]\n",
    "    eqs = sym.Matrix(eqs)\n",
    "    eqs = np.reshape(np.array(eqs.subs(pdict)).astype(np.float64), -1)\n",
    "    return eqs"
   ]
  },
  {
   "cell_type": "code",
   "execution_count": 25,
   "id": "9492ca51-af58-4c5d-952a-c328eab3c15d",
   "metadata": {},
   "outputs": [
    {
     "name": "stdout",
     "output_type": "stream",
     "text": [
      "success: True\n",
      "niter = 14\n",
      "[2.40931696e+12 1.01120553e+07 3.86703330e+06 4.74721425e+09\n",
      " 1.31903161e+05 2.00641730e+08 2.20941873e+05 5.74596157e+07\n",
      " 4.01203844e+03 1.16324573e+04 1.05977067e+03 1.31865310e+04]\n"
     ]
    }
   ],
   "source": [
    "# Find roots in knock-LS\n",
    "incond = y0.copy()\n",
    "root0 = root(solve_syst, incond, method='lm', options={'maxiter':150})\n",
    "print(\"success:\", root0.success)\n",
    "print(\"niter =\", root0.nfev)\n",
    "print(root0.x)"
   ]
  },
  {
   "cell_type": "markdown",
   "id": "309da141-f4a7-4b6f-83aa-78722987edde",
   "metadata": {},
   "source": [
    "# Integrate"
   ]
  },
  {
   "cell_type": "code",
   "execution_count": 26,
   "id": "fc7b64a4-c411-4210-b5e6-b89ab4c58c31",
   "metadata": {},
   "outputs": [],
   "source": [
    "# Function for minimization\n",
    "def integr_syst(t, y):\n",
    "    a_,mq_,cq_,q_,mL_,mS_,cL_,O1_,bL_,bS_,L_,S_ = y\n",
    "    eqs = [ A0 - lmd_a*a_ - vreplf(a_,bL_,O1_,bS_) # energy supply + ATP degradation + replication\n",
    "           - Nnt * ( om_q(a_)*(nQ) + om_S(S_,a_)*nS + om_L(L_,a_)*nL ) # transcription\n",
    "           - Naa * ( vq(cq_,a_)*nq + vL(cL_,a_)*(nL/3) ) # translation\n",
    "           - Nnt * ( vintL(bL_,O1_,a_)*nL + vintS(bS_,a_)*nS ), # integration # da/dt\n",
    "            om_q(a_) - k_bq*ribf(cq_,cL_)*mq_ + vq(cq_,a_) + k_uq*cq_ - d_mq*mq_, # dmq/dt\n",
    "            k_bq*ribf(cq_,cL_)*mq_  - k_uq*cq_ - vq(cq_,a_) - d_cq*cq_, # dcq/dt\n",
    "            vq(cq_,a_) - d_q*q_, # dq/dt\n",
    "            om_L(L_,a_) - k_bL*ribf(cq_,cL_)*mL_ + k_uL*cL_ + k_subS*mS_*bL_ - k_subL*mL_*bS_ - d_mL*mL_, # dmL/dt\n",
    "            om_S(S_,a_) + k_subL*mL_*bS_ - k_subS*mS_*bL_ - d_mS*mS_, # dmS/dt\n",
    "            k_bL*ribf(cq_,cL_)*mL_  - k_uL*cL_ - vL(cL_,a_) - d_cL*cL_, # dcL/dt\n",
    "            vL(cL_,a_) - vintL(bL_,O1_,a_) - d_O1*O1_, # dO1/dt\n",
    "            vL(cL_,a_) + k_subL*mL_*bS_ - vintL(bL_,O1_,a_) - k_subS*mS_*bL_ - d_bL*bL_, # dbL/dt\n",
    "            k_subS*mS_*bL_ - k_subL*mL_*bS_ - vintS(bS_,a_) - d_bS*bS_, # dbS/dt\n",
    "            vintL(bL_,O1_,a_) - lmd_L*L_, # dL/dt\n",
    "            vintS(bS_,a_) - lmd_S*S_ # dS/dt\n",
    "           ]\n",
    "    eqs = sym.Matrix(eqs)\n",
    "    eqs = np.reshape(np.array(eqs.subs(pdict)).astype(np.float64), -1)\n",
    "    return eqs"
   ]
  },
  {
   "cell_type": "code",
   "execution_count": 27,
   "id": "e69a7b16-3c87-419c-9a16-70af3784c455",
   "metadata": {},
   "outputs": [],
   "source": [
    "# Reference solution\n",
    "t_start = 0.\n",
    "t_finish = 500.\n",
    "step = 1.\n",
    "t_span = np.array([t_start, t_finish])\n",
    "t = np.arange(t_start,t_finish,step)\n",
    "n0 = 0\n",
    "n = 500 #int((t_finish-t_start)/step)\n",
    "\n",
    "# set initial conditions (random)\n",
    "incond = root0.x.copy()\n",
    "# seed = 12345\n",
    "# rng = np.random.default_rng(seed)\n",
    "# rfloat = rng.random(12)\n",
    "# incond += incond*(rfloat*2-1)*0.8\n",
    "# incond[-2] *=1000\n",
    "\n",
    "# integrate\n",
    "sol = integrate.solve_ivp(integr_syst, t_span, incond, t_eval=t, dense_output=True, method = 'Radau')"
   ]
  },
  {
   "cell_type": "code",
   "execution_count": 28,
   "id": "42e22caf-759e-434d-ad09-0ee668df6e34",
   "metadata": {},
   "outputs": [
    {
     "data": {
      "image/png": "[encoded data removed]",
      "text/plain": [
       "<Figure size 600x400 with 1 Axes>"
      ]
     },
     "metadata": {
      "image/png": {
       "height": 383,
       "width": 582
      }
     },
     "output_type": "display_data"
    }
   ],
   "source": [
    "# Plot solution\n",
    "fig, ax = plt.subplots()\n",
    "\n",
    "ax.plot(sol.t[n0:n], sol.y[0,n0:n], '-', lw=1.5, color=colormap[0], label=r\"$\\widebar{a}$\")\n",
    "ax.plot(sol.t[n0:n], sol.y[1,n0:n], '-', lw=1.5, color=colormap[1], label=r\"$\\widebar{mq}$\")\n",
    "ax.plot(sol.t[n0:n], sol.y[2,n0:n], '-', lw=1.5, color=colormap[2], label=r\"$\\widebar{cq}$\")\n",
    "ax.plot(sol.t[n0:n], sol.y[3,n0:n], '-', lw=1.5, color=colormap[3], label=r\"$\\widebar{q}$\")\n",
    "ax.plot(sol.t[n0:n], sol.y[4,n0:n], '-', lw=1.5, color=colormap[4], label=r\"$\\widebar{m}_L$\")\n",
    "ax.plot(sol.t[n0:n], sol.y[5,n0:n], '-', lw=1.5, color=colormap[5], label=r\"$\\widebar{m}_S$\")\n",
    "ax.plot(sol.t[n0:n], sol.y[6,n0:n], '-', lw=1.5, color=colormap[6], label=r\"$\\widebar{cL}$\")\n",
    "ax.plot(sol.t[n0:n], sol.y[7,n0:n], '-', lw=1.5, color=colormap[7], label=r\"$\\widebar{O1}$\")\n",
    "ax.plot(sol.t[n0:n], sol.y[8,n0:n], '-', lw=1.5, color=colormap[8], label=r\"$\\widebar{bL}$\")\n",
    "ax.plot(sol.t[n0:n], sol.y[9,n0:n], '-', lw=1.5, color=colormap[9], label=r\"$\\widebar{bS}$\")\n",
    "ax.plot(sol.t[n0:n], sol.y[10,n0:n],'-', lw=1.5, color=colormap[10], label=r\"$\\widebar{L}$\")\n",
    "ax.plot(sol.t[n0:n], sol.y[11,n0:n],'-', lw=1.5, color=colormap[11], label=r\"$\\widebar{S}$\")\n",
    "\n",
    "# Label axes\n",
    "ax.set_title('Reference')\n",
    "ax.set_xlabel('Time, min')\n",
    "ax.set_ylabel('m.p.c.')\n",
    "ax.set_yscale('log')\n",
    "ax.axis('auto')\n",
    "ax.legend(bbox_to_anchor=[1.,1])\n",
    "plt.tight_layout()\n",
    "plt.show()"
   ]
  },
  {
   "cell_type": "code",
   "execution_count": null,
   "id": "d2eaef60-362d-40d7-baed-1533e797eca9",
   "metadata": {},
   "outputs": [],
   "source": []
  }
 ],
 "metadata": {
  "kernelspec": {
   "display_name": "Python 3 (ipykernel)",
   "language": "python",
   "name": "python3"
  },
  "language_info": {
   "codemirror_mode": {
    "name": "ipython",
    "version": 3
   },
   "file_extension": ".py",
   "mimetype": "text/x-python",
   "name": "python",
   "nbconvert_exporter": "python",
   "pygments_lexer": "ipython3",
   "version": "3.12.3"
  }
 },
 "nbformat": 4,
 "nbformat_minor": 5
}
