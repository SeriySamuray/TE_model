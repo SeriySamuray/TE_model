{
 "cells": [
  {
   "cell_type": "code",
   "execution_count": 16,
   "id": "67fbe749-4400-4eeb-a44e-0419a84787bf",
   "metadata": {},
   "outputs": [],
   "source": [
    "import os\n",
    "import numpy as np\n",
    "import pandas as pd\n",
    "from tqdm import tqdm\n",
    "import pickle\n",
    "import copy as cp\n",
    "from math import *\n",
    "import datetime as dt\n",
    "import matplotlib.pyplot as plt\n",
    "from pylab import rcParams\n",
    "import seaborn as sns\n",
    "#\n",
    "import scipy\n",
    "import scipy.integrate as integrate\n",
    "from scipy.optimize import root\n",
    "from scipy.optimize import least_squares"
   ]
  },
  {
   "cell_type": "code",
   "execution_count": 17,
   "id": "bd02b421-6df5-4bcb-846f-2336674b479d",
   "metadata": {},
   "outputs": [],
   "source": [
    "# write list to binary file\n",
    "def write2pickle(file, fname):\n",
    "    # store list in binary file so 'wb' mode\n",
    "    with open(fname, 'wb') as f:\n",
    "        pickle.dump(file, f)\n",
    "        print('Done writing list into a binary file')\n",
    "\n",
    "# Read list to memory\n",
    "def read_pickle(fname):\n",
    "    # for reading also binary mode is important\n",
    "    with open(fname, 'rb') as f:\n",
    "        file = pd.read_pickle(f)\n",
    "        return file\n",
    "\n",
    "# Chech directories exit. Create if not\n",
    "def check_dir_exist(path):\n",
    "    if not os.path.isdir(path):\n",
    "        os.makedirs(path, exist_ok=True)"
   ]
  },
  {
   "cell_type": "code",
   "execution_count": 18,
   "id": "57d1b384-80c3-4fb9-b3b0-820b2da11014",
   "metadata": {},
   "outputs": [],
   "source": [
    "# This is to enable inline displays\n",
    "%matplotlib inline\n",
    "%config InlineBackend.figure_formats = {'png', 'retina'}\n",
    "\n",
    "# Plot parameters\n",
    "rcParams['figure.figsize'] = 6,4\n",
    "\n",
    "# Seaborn settings for notebook\n",
    "rc = {'lines.linewidth': 1.,\n",
    "      'axes.titlesize': 14,\n",
    "      'axes.labelsize': 14,\n",
    "      'xtick.labelsize': 10,\n",
    "      'ytick.labelsize': 10,\n",
    "      'legend.fontsize': 10,\n",
    "      'savefig.dpi': 300,\n",
    "      'axes.facecolor': 'white'}\n",
    "sns.set_context('notebook', rc=rc)\n",
    "sns.set_style('ticks', rc=rc)"
   ]
  },
  {
   "cell_type": "code",
   "execution_count": 19,
   "id": "669e3018-fedf-4b1a-9f91-0a3551c0f944",
   "metadata": {},
   "outputs": [],
   "source": [
    "# Set colors\n",
    "colormap = ['magenta',\n",
    "           'darkcyan',\n",
    "           'darkseagreen',\n",
    "           'green',\n",
    "           'royalblue',\n",
    "           'orangered',\n",
    "           'steelblue',\n",
    "           'peru',\n",
    "           'skyblue',\n",
    "           'firebrick',\n",
    "           'blue',\n",
    "           'red']"
   ]
  },
  {
   "cell_type": "markdown",
   "id": "75a992a6-c3b1-468b-b138-82f676ceedc8",
   "metadata": {},
   "source": [
    "# Set found stationary solutions"
   ]
  },
  {
   "cell_type": "code",
   "execution_count": 167,
   "id": "763c9562-27ea-4860-84a2-1f6772b141da",
   "metadata": {},
   "outputs": [],
   "source": [
    "# Set changable model parameters\n",
    "dir_sts = \"stat_sols/\"\n",
    "# exec_file = dir_sts+\"model_0_literature.py\" # first reference\n",
    "# exec_file = dir_sts+\"model_1_demethylated.py\" # after demethylation (first estimation)\n",
    "exec_file = dir_sts+\"model_2_intact.py\" # intact (second estimation)\n",
    "# exec_file = dir_sts+\"model_2_intact_azaC.py\" # intact+azaC (second estimation)\n",
    "\n",
    "# Execute from file\n",
    "exec(open(exec_file).read())"
   ]
  },
  {
   "cell_type": "code",
   "execution_count": 190,
   "id": "f11c4a34-5e70-4db2-be5d-4972cc62ff77",
   "metadata": {},
   "outputs": [
    {
     "name": "stdout",
     "output_type": "stream",
     "text": [
      "cell Volume [micro-meters^3] = 5575.279762570686 \n",
      "\n",
      "Intact: a0 = 17102.880 m.p.c.*10^9\n",
      "Intact+azaC: a0 = 19873.065 m.p.c.*10^9\n"
     ]
    }
   ],
   "source": [
    "# Calculate a0 from experiments\n",
    "print(\"cell Volume [micro-meters^3] =\", 4/3*pi*(22/2)**3, \"\\n\")\n",
    "\n",
    "N_Av = 6.02214076e23 # число Авогадро\n",
    "\n",
    "# Calc.\n",
    "atp_dV = 2e-6 # Моль*cell_number (from experiment in 5e5 cells)\n",
    "# V = 4/3*pi*(22e-6/2)**3*1e-3 * 5e5\n",
    "# print(f\"a0 = {N_Av*atp_dV/5e5*1e-9:.3f} m.p.c.*10^9\")\n",
    "\n",
    "### Intact (02.12.2024) ###\n",
    "atp_dV = 14.2e-6 # Моль*cell_number (from experiment in 5e5 cells)\n",
    "print(f\"Intact: a0 = {N_Av*atp_dV/5e5*1e-9:.3f} m.p.c.*10^9\")\n",
    "\n",
    "### Intact+azaC (02.12.2024) ###\n",
    "atp_dV = 16.5e-6 # Моль*cell_number (from experiment in 5e5 cells)\n",
    "print(f\"Intact+azaC: a0 = {N_Av*atp_dV/5e5*1e-9:.3f} m.p.c.*10^9\")"
   ]
  },
  {
   "cell_type": "markdown",
   "id": "825cf569-23bb-4834-b388-140f592c1b88",
   "metadata": {},
   "source": [
    "# Set model"
   ]
  },
  {
   "cell_type": "code",
   "execution_count": 171,
   "id": "6319794b-d08c-4dc2-9dc5-82b226d9e5e4",
   "metadata": {},
   "outputs": [],
   "source": [
    "# Wild type values\n",
    "awt = 5.33e9  # characteristic number of ATP\n",
    "Lwt = 1064.   # number of LINE-1 in wild type\n",
    "Swt = 13243.  # number of SINE in wild type\n",
    "\n",
    "### Constants: ###\n",
    "Ng       = 3.08e9  # total genome size [bp]\n",
    "Q        = 3804.   # number of housekeeping genes\n",
    "nq       = 431.    # median HeLa cell protein length [aa]\n",
    "nQ       = 1300.   # median HeLa housekeeping gene length [bp]\n",
    "nL       = 6000.   # LINE-1 length [bp]\n",
    "nS       = 300.    # SINE length [bp]\n",
    "Naa      = 5.      # number of ATP molecules for adding a.a. [m.p.c. - mol. per cell]\n",
    "Nnt      = 15.     # number of ATP molecules for adding nt. [m.p.c.]\n",
    "tdiv     = 22.*60  # HeLa cell cycle duration, in minutes [min] ( == 1320 min )\n",
    "\n",
    "### Parameter values: ###\n",
    "rtot     = 9.5e6   # total number of ribosomes [m.p.c.]\n",
    "Xi_max_L = 840.    # maximal integration elongation rate of one LINE-1 transposon [bp/(m.p.c.*min)]\n",
    "Xi_max_S = 840.    # maximal integration elongation rate of one SINE transposon [bp/(m.p.c.*min)]\n",
    "K_Xi_L   = 1.1e7   # integration elongation threshold of LINE-1 transposons [m.p.c.]\n",
    "K_Xi_S   = 1.1e7   # integration elongation threshold of SINE transposons [m.p.c.]\n",
    "KL       = 2.24e-3 # association constant of LINE-1 mRNA with ORF1p [1/m.p.c.]\n",
    "wq       = 4.64    # maximal transcription rate of one gene [m.p.c./min]\n",
    "wL       = 1.      # maximal transcription rate of one LINE-1 [m.p.c./min]\n",
    "wS       = 20.     # maximal transcription rate of one SINE [m.p.c./min]\n",
    "Th_nr_q  = 3.8e9   # transcription threshold of one gene [m.p.c.]\n",
    "Th_nr_L  = 3.8e9   # transcription threshold of one LINE-1 [m.p.c.]\n",
    "Th_nr_S  = 3.8e9   # transcription threshold of one SINE [m.p.c.]\n",
    "gm_max_q = 300.    # maximal translation rate of q-RNA (aa/min) [a.a./(m.p.c.*min)]\n",
    "gm_max_L = 300.    # maximal translation rate of LINE-1 RNA (aa/min) [a.a./(m.p.c.*min)]\n",
    "K_gm_q   = 25900.  # translation threshold of one q-RNA [m.p.c.]\n",
    "K_gm_L   = 25900.  # translation threshold of one LINE-1 RNA [m.p.c.]\n",
    "k_bq     = 5e-8    # 2.7e-2 # cq complexes binding rate constant (diffusion limit) [1/(m.p.c.*min)]\n",
    "k_bL     = 5e-8    # 2.7e-2 # cL complexes binding rate constant (diffusion limit) [1/(m.p.c.*min)]\n",
    "k_uq     = 1e-2    # 1e3 # cq complexes unbinding rate constant\n",
    "k_uL     = 1e-2    # 1e3 # cL complexes unbinding rate constant\n",
    "k_subS   = 5e-8    # 6e-8 # bS formation (ORFp2+mS) substitution of mL\n",
    "k_subL   = 5e-6    # 6e-8 # bL formation (ORFp2+mL) substitution of mS\n",
    "d_mq     = 1.15e-3 # q-RNAs degradation rate constant [1/min]\n",
    "d_cq     = 1.55e-3 # cq complexes degradation rate constant [1/min]\n",
    "d_q      = 5.67e-4 # q proteins degradation rate constant [1/min]\n",
    "d_mL     = 1.15e-3 # LINE-1 RNAs degradation rate constant [1/min]\n",
    "d_mS     = 1.15e-3 # ! # SINE RNAs degradation rate constant [1/min]\n",
    "d_cL     = 1.55e-3 # cL complexes degradation rate constant [1/min]\n",
    "d_O1     = 5.67e-4 # ORF1p degradation rate constant [1/min]\n",
    "d_bL     = 5.67e-4 # bL complexes degradation rate constant [1/min]\n",
    "d_bS     = 5.67e-4 # bS complexes degradation rate constant [1/min]\n",
    "\n",
    "# Add some\n",
    "rib = rtot - cq0 - cL0 # number of free ribosomes\n",
    "vrepl_max = Nnt*(Ng/tdiv)/0.8\n",
    "k_vrepl = 0.25*a0\n",
    "\n",
    "# copy parameters (lmd_L & lmd_S)\n",
    "lmd_L_ref = lmd_L\n",
    "lmd_S_ref = lmd_S"
   ]
  },
  {
   "cell_type": "code",
   "execution_count": 172,
   "id": "6e60ee0f-84d7-4d91-9c33-b0c0a168a248",
   "metadata": {},
   "outputs": [],
   "source": [
    "# translation rates:\n",
    "def vq(cq_, a_):\n",
    "    return gm_max_q/nq*cq_*a_/(K_gm_q+a_)\n",
    "\n",
    "def vL(cL_,a_):\n",
    "    return gm_max_L/(nL/3)*cL_*a_/(K_gm_L+a_)\n",
    "\n",
    "# integration rates:\n",
    "def vintL(bL_,O1_,a_):\n",
    "    return Xi_max_L/nL * bL_*a_/(K_Xi_L+a_)*KL*O1_/(1+KL*O1_)\n",
    "\n",
    "def vintS(bS_,a_):\n",
    "    return Xi_max_S/nS * bS_*a_/(K_Xi_S+a_)\n",
    "\n",
    "# transcription rates:\n",
    "def om_q(a_):\n",
    "    return Q*wq*a_/(Th_nr_q+a_)\n",
    "\n",
    "def om_L(L_,a_):\n",
    "    return L_*wL*a_/(Th_nr_L+a_)\n",
    "\n",
    "def om_S(S_,a_):\n",
    "    return S_*wS*a_/(Th_nr_S+a_)\n",
    "\n",
    "# replication:\n",
    "# def vreplf(a_):\n",
    "#     return vrepl_max*a_/(a_+k_vrepl)\n",
    "\n",
    "# replication:\n",
    "def vreplf(a_,bL_,O1_,bS_):\n",
    "    return Nnt*(Ng/tdiv + vintL(bL_,O1_,a_)*nL + vintS(bS_,a_)*nS)\n",
    "\n",
    "# ribosomes:\n",
    "def ribf(cq_,cL_):\n",
    "    return rtot-cq_-cL_"
   ]
  },
  {
   "cell_type": "code",
   "execution_count": 173,
   "id": "51d437b7-31fa-4216-8b9b-de4578edf05e",
   "metadata": {},
   "outputs": [],
   "source": [
    "# Function for integration\n",
    "def integr_syst(t, y):\n",
    "    a_,mq_,cq_,q_,mL_,mS_,cL_,O1_,bL_,bS_,L_,S_ = y\n",
    "    dydt = np.array([A0 - lmd_a*a_ - vreplf(a_,bL_,O1_,bS_) # energy supply + ATP degradation + replication\n",
    "                   - Nnt * ( om_q(a_)*(nQ) + om_S(S_,a_)*nS + om_L(L_,a_)*nL ) # transcription\n",
    "                   - Naa * ( vq(cq_,a_)*nq + vL(cL_,a_)*(nL/3) ) # translation\n",
    "                   - Nnt * ( vintL(bL_,O1_,a_)*nL + vintS(bS_,a_)*nS ), # integration # da/dt\n",
    "                    om_q(a_) - k_bq*ribf(cq_,cL_)*mq_ + vq(cq_,a_) + k_uq*cq_  - d_mq*mq_, # dmq/dt\n",
    "                    k_bq*ribf(cq_,cL_)*mq_  - k_uq*cq_ - vq(cq_,a_) - d_cq*cq_, # dcq/dt\n",
    "                    vq(cq_,a_) - d_q*q_, # dq/dt\n",
    "                    om_L(L_,a_) - k_bL*ribf(cq_,cL_)*mL_ + k_uL*cL_ + k_subS*mS_*bL_ - k_subL*mL_*bS_ - d_mL*mL_, # dmL/dt\n",
    "                    om_S(S_,a_) + k_subL*mL_*bS_ - k_subS*mS_*bL_ - d_mS*mS_, # dmS/dt\n",
    "                    k_bL*ribf(cq_,cL_)*mL_  - k_uL*cL_ - vL(cL_,a_) - d_cL*cL_, # dcL/dt\n",
    "                    vL(cL_,a_) - vintL(bL_,O1_,a_) - d_O1*O1_, # dO1/dt\n",
    "                    vL(cL_,a_) + k_subL*mL_*bS_ - vintL(bL_,O1_,a_) - k_subS*mS_*bL_ - d_bL*bL_, # dbL/dt\n",
    "                    k_subS*mS_*bL_ - k_subL*mL_*bS_ - vintS(bS_,a_) - d_bS*bS_, # dbS/dt\n",
    "                    vintL(bL_,O1_,a_) - lmd_L*L_, # dL/dt\n",
    "                    vintS(bS_,a_) - lmd_S*S_]) # dS/dt\n",
    "    return dydt"
   ]
  },
  {
   "cell_type": "code",
   "execution_count": 177,
   "id": "0b72d28e-bfd0-4c25-be56-e85365551622",
   "metadata": {},
   "outputs": [],
   "source": [
    "# Function for minimization\n",
    "def solve_syst(y):\n",
    "    a_,mq_,cq_,q_,mL_,mS_,cL_,O1_,bL_,bS_,L_,S_ = y\n",
    "    dydt = np.array([A0 - lmd_a*a_ - vreplf(a_,bL_,O1_,bS_) # energy supply + ATP degradation + replication\n",
    "                   - Nnt * ( om_q(a_)*(nQ) + om_S(S_,a_)*nS + om_L(L_,a_)*nL ) # transcription\n",
    "                   - Naa * ( vq(cq_,a_)*nq + vL(cL_,a_)*(nL/3) ) # translation\n",
    "                   - Nnt * ( vintL(bL_,O1_,a_)*nL + vintS(bS_,a_)*nS ), # integration # da/dt\n",
    "                    om_q(a_) - k_bq*ribf(cq_,cL_)*mq_ + vq(cq_,a_) + k_uq*cq_  - d_mq*mq_, # dmq/dt\n",
    "                    k_bq*ribf(cq_,cL_)*mq_  - k_uq*cq_ - vq(cq_,a_) - d_cq*cq_, # dcq/dt\n",
    "                    vq(cq_,a_) - d_q*q_, # dq/dt\n",
    "                    om_L(L_,a_) - k_bL*ribf(cq_,cL_)*mL_ + k_uL*cL_ + k_subS*mS_*bL_ - k_subL*mL_*bS_ - d_mL*mL_, # dmL/dt\n",
    "                    om_S(S_,a_) + k_subL*mL_*bS_ - k_subS*mS_*bL_ - d_mS*mS_, # dmS/dt\n",
    "                    k_bL*ribf(cq_,cL_)*mL_  - k_uL*cL_ - vL(cL_,a_) - d_cL*cL_, # dcL/dt\n",
    "                    vL(cL_,a_) - vintL(bL_,O1_,a_) - d_O1*O1_, # dO1/dt\n",
    "                    vL(cL_,a_) + k_subL*mL_*bS_ - vintL(bL_,O1_,a_) - k_subS*mS_*bL_ - d_bL*bL_, # dbL/dt\n",
    "                    k_subS*mS_*bL_ - k_subL*mL_*bS_ - vintS(bS_,a_) - d_bS*bS_, # dbS/dt\n",
    "                    vintL(bL_,O1_,a_) - lmd_L*L_, # dL/dt\n",
    "                    vintS(bS_,a_) - lmd_S*S_]) # dS/dt\n",
    "    return dydt\n",
    "\n",
    "# # Function for root finding\n",
    "# def solve_syst(y):\n",
    "#     a_ = a0\n",
    "#     L_ = L0\n",
    "#     S_ = S0\n",
    "#     lmd_a,mq_,cq_,q_,mL_,mS_,cL_,O1_,bL_,bS_,lmd_L,lmd_S = y\n",
    "#     dydt = np.array([A0 - lmd_a*a_ - vreplf(a_,bL_,O1_,bS_) # energy supply + ATP degradation + replication\n",
    "#                    - Nnt * ( om_q(a_)*(nQ) + om_S(S_,a_)*nS + om_L(L_,a_)*nL ) # transcription\n",
    "#                    - Naa * ( vq(cq_,a_)*nq + vL(cL_,a_)*(nL/3) ) # translation\n",
    "#                    - Nnt * ( vintL(bL_,O1_,a_)*nL + vintS(bS_,a_)*nS ), # integration # da/dt\n",
    "#                     om_q(a_) - k_bq*ribf(cq_,cL_)*mq_ + vq(cq_,a_) + k_uq*cq_  - d_mq*mq_, # dmq/dt\n",
    "#                     k_bq*ribf(cq_,cL_)*mq_  - k_uq*cq_ - vq(cq_,a_) - d_cq*cq_, # dcq/dt\n",
    "#                     vq(cq_,a_) - d_q*q_, # dq/dt\n",
    "#                     om_L(L_,a_) - k_bL*ribf(cq_,cL_)*mL_ + k_uL*cL_ + k_subS*mS_*bL_ - k_subL*mL_*bS_ - d_mL*mL_, # dmL/dt\n",
    "#                     om_S(S_,a_) + k_subL*mL_*bS_ - k_subS*mS_*bL_ - d_mS*mS_, # dmS/dt\n",
    "#                     k_bL*ribf(cq_,cL_)*mL_  - k_uL*cL_ - vL(cL_,a_) - d_cL*cL_, # dcL/dt\n",
    "#                     vL(cL_,a_) - vintL(bL_,O1_,a_) - d_O1*O1_, # dO1/dt\n",
    "#                     vL(cL_,a_) + k_subL*mL_*bS_ - vintL(bL_,O1_,a_) - k_subS*mS_*bL_ - d_bL*bL_, # dbL/dt\n",
    "#                     k_subS*mS_*bL_ - k_subL*mL_*bS_ - vintS(bS_,a_) - d_bS*bS_, # dbS/dt\n",
    "#                     vintL(bL_,O1_,a_) - lmd_L*L_, # dL/dt\n",
    "#                     vintS(bS_,a_) - lmd_S*S_]) # dS/dt\n",
    "#     return dydt"
   ]
  },
  {
   "cell_type": "markdown",
   "id": "4e988329-a9af-4e23-abdc-20a09a9a9f53",
   "metadata": {},
   "source": [
    "# Calculate"
   ]
  },
  {
   "cell_type": "code",
   "execution_count": 183,
   "id": "51880ff7-3aa0-4203-8ae7-1308c68613ca",
   "metadata": {},
   "outputs": [
    {
     "name": "stdout",
     "output_type": "stream",
     "text": [
      "success: True\n",
      "niter = 14\n",
      "[1.70903634e+13 1.01281678e+07 3.87047959e+06 4.75144500e+09\n",
      " 1.32203563e+05 2.01277667e+08 2.21289804e+05 5.75527581e+07\n",
      " 4.00758209e+03 1.16512701e+04 1.05859770e+03 1.32079090e+04]\n"
     ]
    }
   ],
   "source": [
    "# Find roots numerically\n",
    "incond = sty0.copy() # reference\n",
    "# incond = sty1.copy() # knock-S\n",
    "# incond = sty2.copy() # knock-LS\n",
    "# incond = sty3.copy() # modified: lmd_L/2\n",
    "# incond = sty4.copy() # modified: lmd_L/2 & lmd_S/2\n",
    "\n",
    "# ### Change lmd_L ###\n",
    "# lmd_L = lmd_L_ref # reference\n",
    "# lmd_L = lmd_L_ref/2 # lmd_L/2\n",
    "\n",
    "# ### Change lmd_S ###\n",
    "# lmd_S = lmd_S_ref # reference\n",
    "# lmd_S = lmd_S_ref/2 # lmd_S/2\n",
    "\n",
    "root0 = root(solve_syst, incond, method='lm', options={'maxiter':10000})\n",
    "print(\"success:\", root0.success)\n",
    "print(\"niter =\", root0.nfev)\n",
    "print(root0.x)"
   ]
  },
  {
   "cell_type": "code",
   "execution_count": 184,
   "id": "2642b6dd-ab06-43c7-91f4-b20ec196a3fa",
   "metadata": {},
   "outputs": [
    {
     "name": "stdout",
     "output_type": "stream",
     "text": [
      "message: `xtol` termination condition is satisfied.\n",
      "success: True\n",
      "niter = 2\n",
      "root:\n",
      " [1.70903634e+13 1.01281678e+07 3.87047959e+06 4.75144500e+09\n",
      " 1.32203563e+05 2.01277667e+08 2.21289804e+05 5.75527581e+07\n",
      " 4.00758209e+03 1.16512701e+04 1.05859770e+03 1.32079090e+04]\n",
      "O-C:\n",
      " [ 4.17232513e-07 -1.65528036e-10 -2.23735697e-10  0.00000000e+00\n",
      "  7.04858394e-12  0.00000000e+00 -3.69482223e-12 -3.63797881e-12\n",
      " -1.24789068e-13  6.07158768e-12  0.00000000e+00 -3.63797881e-12]\n"
     ]
    }
   ],
   "source": [
    "# Check with least_squares\n",
    "incond = root0.x.copy()\n",
    "lsq = least_squares(solve_syst, incond, method='dogbox', bounds=(0, np.inf), max_nfev=250)\n",
    "print(\"message:\", lsq.message)\n",
    "print(\"success:\", lsq.success)\n",
    "print(\"niter =\", lsq.nfev)\n",
    "print(\"root:\\n\", lsq.x)\n",
    "print(\"O-C:\\n\", solve_syst(lsq.x))"
   ]
  },
  {
   "cell_type": "code",
   "execution_count": 185,
   "id": "367d06e3-89a0-4953-a62b-90db28d0f766",
   "metadata": {},
   "outputs": [
    {
     "data": {
      "image/png": "[encoded data removed]",
      "text/plain": [
       "<Figure size 600x400 with 1 Axes>"
      ]
     },
     "metadata": {
      "image/png": {
       "height": 383,
       "width": 582
      }
     },
     "output_type": "display_data"
    }
   ],
   "source": [
    "# Reference solution\n",
    "t_start = 0.\n",
    "t_finish = 50000.\n",
    "step = 1.\n",
    "t_span = np.array([t_start, t_finish])\n",
    "t = np.arange(t_start,t_finish,step)\n",
    "n0 = 0\n",
    "n = int((t_finish-t_start)/step)\n",
    "\n",
    "# set initial conditions (random)\n",
    "# incond = sty0\n",
    "incond = root0.x.copy()\n",
    "# seed = 12345\n",
    "# rng = np.random.default_rng(seed)\n",
    "# rfloat = rng.random(12)\n",
    "# incond += incond*(rfloat*2-1)*0.8\n",
    "# incond[-2] *=1000\n",
    "\n",
    "# integrate\n",
    "sol = integrate.solve_ivp(integr_syst, t_span, incond, t_eval=t, dense_output=True, method = 'Radau')\n",
    "\n",
    "# Plot solution\n",
    "fig, ax = plt.subplots()\n",
    "\n",
    "ax.plot(sol.t[n0:n], sol.y[0,n0:n], '-', lw=1.5, color=colormap[0], label=r\"$\\widebar{a}$\")\n",
    "ax.plot(sol.t[n0:n], sol.y[1,n0:n], '-', lw=1.5, color=colormap[1], label=r\"$\\widebar{mq}$\")\n",
    "ax.plot(sol.t[n0:n], sol.y[2,n0:n], '-', lw=1.5, color=colormap[2], label=r\"$\\widebar{cq}$\")\n",
    "ax.plot(sol.t[n0:n], sol.y[3,n0:n], '-', lw=1.5, color=colormap[3], label=r\"$\\widebar{q}$\")\n",
    "ax.plot(sol.t[n0:n], sol.y[4,n0:n], '-', lw=1.5, color=colormap[4], label=r\"$\\widebar{m}_L$\")\n",
    "ax.plot(sol.t[n0:n], sol.y[5,n0:n], '-', lw=1.5, color=colormap[5], label=r\"$\\widebar{m}_S$\")\n",
    "ax.plot(sol.t[n0:n], sol.y[6,n0:n], '-', lw=1.5, color=colormap[6], label=r\"$\\widebar{cL}$\")\n",
    "ax.plot(sol.t[n0:n], sol.y[7,n0:n], '-', lw=1.5, color=colormap[7], label=r\"$\\widebar{O1}$\")\n",
    "ax.plot(sol.t[n0:n], sol.y[8,n0:n], '-', lw=1.5, color=colormap[8], label=r\"$\\widebar{bL}$\")\n",
    "ax.plot(sol.t[n0:n], sol.y[9,n0:n], '-', lw=1.5, color=colormap[9], label=r\"$\\widebar{bS}$\")\n",
    "ax.plot(sol.t[n0:n], sol.y[10,n0:n],'-', lw=1.5, color=colormap[10], label=r\"$\\widebar{L}$\")\n",
    "ax.plot(sol.t[n0:n], sol.y[11,n0:n],'-', lw=1.5, color=colormap[11], label=r\"$\\widebar{S}$\")\n",
    "\n",
    "# Label axes\n",
    "ax.set_title('Reference')\n",
    "ax.set_xlabel('Time, min')\n",
    "ax.set_ylabel('m.p.c.')\n",
    "ax.set_yscale('log')\n",
    "ax.axis('auto')\n",
    "ax.legend(bbox_to_anchor=[1.,1])\n",
    "plt.tight_layout()\n",
    "plt.show()"
   ]
  },
  {
   "cell_type": "markdown",
   "id": "25ab9126-3f8e-4ca8-8be3-e7de8f3b6aa5",
   "metadata": {},
   "source": [
    "## Check knocked-S model"
   ]
  },
  {
   "cell_type": "code",
   "execution_count": 186,
   "id": "7deb010d-821a-4855-af7c-4a36d9338c0b",
   "metadata": {},
   "outputs": [],
   "source": [
    "# Function for minimization\n",
    "def solve_syst_knock_S(y):\n",
    "    a_,mq_,cq_,q_,mL_,cL_,O1_,bL_,L_ = y\n",
    "    dydt = np.array([ A0 - lmd_a*a_ - vreplf(a_,bL_,O1_,0.) # energy supply + ATP degradation + replication\n",
    "                   - Nnt * ( om_q(a_)*(nQ) + om_L(L_,a_)*nL ) # transcription\n",
    "                   - Naa * ( vq(cq_,a_)*nq + vL(cL_,a_)*(nL/3) ) # translation\n",
    "                   - Nnt * ( vintL(bL_,O1_,a_)*nL ), # integration # da/dt\n",
    "                    om_q(a_) - k_bq*ribf(cq_,cL_)*mq_ + k_uq*cq_ + vq(cq_,a_) - d_mq*mq_, # dmq/dt\n",
    "                    k_bq*ribf(cq_,cL_)*mq_  - k_uq*cq_ - vq(cq_,a_) - d_cq*cq_, # dcq/dt\n",
    "                    vq(cq_,a_) - d_q*q_, # dq/dt\n",
    "                    om_L(L_,a_) - k_bL*ribf(cq_,cL_)*mL_ + k_uL*cL_ - d_mL*mL_, # dmL/dt\n",
    "                    k_bL*ribf(cq_,cL_)*mL_  - k_uL*cL_ - vL(cL_,a_) - d_cL*cL_, # dcL/dt\n",
    "                    vL(cL_,a_) - vintL(bL_,O1_,a_) - d_O1*O1_, # dO1/dt\n",
    "                    vL(cL_,a_) - vintL(bL_,O1_,a_) - d_bL*bL_, # dbL/dt\n",
    "                    vintL(bL_,O1_,a_) - lmd_L*L_ # dL/dt\n",
    "           ])\n",
    "    return dydt\n",
    "\n",
    "# Function for integration\n",
    "def integr_syst_knock_S(t, y):\n",
    "    a_,mq_,cq_,q_,mL_,cL_,O1_,bL_,L_ = y\n",
    "    dydt = np.array([ A0 - lmd_a*a_ - vreplf(a_,bL_,O1_,0.) # energy supply + ATP degradation + replication\n",
    "                   - Nnt * ( om_q(a_)*(nQ) + om_L(L_,a_)*nL ) # transcription\n",
    "                   - Naa * ( vq(cq_,a_)*nq + vL(cL_,a_)*(nL/3) ) # translation\n",
    "                   - Nnt * ( vintL(bL_,O1_,a_)*nL ), # integration # da/dt\n",
    "                    om_q(a_) - k_bq*ribf(cq_,cL_)*mq_ + k_uq*cq_ + vq(cq_,a_) - d_mq*mq_, # dmq/dt\n",
    "                    k_bq*ribf(cq_,cL_)*mq_  - k_uq*cq_ - vq(cq_,a_) - d_cq*cq_, # dcq/dt\n",
    "                    vq(cq_,a_) - d_q*q_, # dq/dt\n",
    "                    om_L(L_,a_) - k_bL*ribf(cq_,cL_)*mL_ + k_uL*cL_ - d_mL*mL_, # dmL/dt\n",
    "                    k_bL*ribf(cq_,cL_)*mL_  - k_uL*cL_ - vL(cL_,a_) - d_cL*cL_, # dcL/dt\n",
    "                    vL(cL_,a_) - vintL(bL_,O1_,a_) - d_O1*O1_, # dO1/dt\n",
    "                    vL(cL_,a_) - vintL(bL_,O1_,a_) - d_bL*bL_, # dbL/dt\n",
    "                    vintL(bL_,O1_,a_) - lmd_L*L_ # dL/dt\n",
    "           ])\n",
    "    return dydt"
   ]
  },
  {
   "cell_type": "code",
   "execution_count": 187,
   "id": "88454914-1d08-41fd-b4c8-2b776a9184eb",
   "metadata": {},
   "outputs": [
    {
     "name": "stdout",
     "output_type": "stream",
     "text": [
      "success: True\n",
      "niter = 11\n",
      "[4.45330154e+09 5.01082679e+06 2.42671386e+06 2.97904436e+09\n",
      " 1.03495292e+05 2.19540165e+05 2.35291548e+05 2.35291548e+05\n",
      " 6.18819300e+04]\n"
     ]
    }
   ],
   "source": [
    "incond = sty1[sty1 != 0].copy() # knock-S\n",
    "\n",
    "root1 = root(solve_syst_knock_S, incond, method='lm', options={'maxiter':10000})\n",
    "print(\"success:\", root1.success)\n",
    "print(\"niter =\", root1.nfev)\n",
    "print(root1.x)"
   ]
  },
  {
   "cell_type": "code",
   "execution_count": 188,
   "id": "70b2ca36-1953-48c7-bb87-aeec2b0ee89a",
   "metadata": {},
   "outputs": [
    {
     "name": "stdout",
     "output_type": "stream",
     "text": [
      "message: `xtol` termination condition is satisfied.\n",
      "success: True\n",
      "niter = 2\n",
      "root:\n",
      " [4.45330154e+09 5.01082679e+06 2.42671386e+06 2.97904436e+09\n",
      " 1.03495292e+05 2.19540165e+05 2.35291548e+05 2.35291548e+05\n",
      " 6.18819300e+04]\n",
      "O-C:\n",
      " [ 9.53674316e-07  1.86446414e-10 -2.41925591e-10 -2.32830644e-10\n",
      "  3.52429197e-12 -1.30739863e-12  8.78230821e-12  8.78230821e-12\n",
      "  0.00000000e+00]\n"
     ]
    }
   ],
   "source": [
    "# Check with least_squares\n",
    "incond = root1.x\n",
    "lsq = least_squares(solve_syst_knock_S, incond, method='dogbox', bounds=(0, np.inf), max_nfev=25)\n",
    "print(\"message:\", lsq.message)\n",
    "print(\"success:\", lsq.success)\n",
    "print(\"niter =\", lsq.nfev)\n",
    "print(\"root:\\n\", lsq.x)\n",
    "print(\"O-C:\\n\", solve_syst_knock_S(lsq.x))"
   ]
  },
  {
   "cell_type": "code",
   "execution_count": 189,
   "id": "4eba3578-246d-4974-8317-4f51ec456f42",
   "metadata": {},
   "outputs": [
    {
     "data": {
      "image/png": "[encoded data removed]",
      "text/plain": [
       "<Figure size 600x400 with 1 Axes>"
      ]
     },
     "metadata": {
      "image/png": {
       "height": 383,
       "width": 581
      }
     },
     "output_type": "display_data"
    }
   ],
   "source": [
    "# Reference solution\n",
    "t_start = 0.\n",
    "t_finish = 1000.\n",
    "step = 1.\n",
    "t_span = np.array([t_start, t_finish])\n",
    "t = np.arange(t_start,t_finish,step)\n",
    "n0 = 0\n",
    "n = 500 #int((t_finish-t_start)/step)\n",
    "\n",
    "# set initial conditions\n",
    "incond = root1.x.copy()\n",
    "\n",
    "# integrate\n",
    "sol = integrate.solve_ivp(integr_syst_knock_S, t_span, incond, t_eval=t, dense_output=True, method = 'Radau')\n",
    "\n",
    "# Plot solution\n",
    "fig, ax = plt.subplots()\n",
    "\n",
    "ax.plot(sol.t[n0:n], sol.y[0,n0:n], '-', lw=1.5, color=colormap[0], label=r\"$\\widebar{a}$\")\n",
    "ax.plot(sol.t[n0:n], sol.y[1,n0:n], '-', lw=1.5, color=colormap[1], label=r\"$\\widebar{mq}$\")\n",
    "ax.plot(sol.t[n0:n], sol.y[2,n0:n], '-', lw=1.5, color=colormap[2], label=r\"$\\widebar{cq}$\")\n",
    "ax.plot(sol.t[n0:n], sol.y[3,n0:n], '-', lw=1.5, color=colormap[3], label=r\"$\\widebar{q}$\")\n",
    "ax.plot(sol.t[n0:n], sol.y[4,n0:n], '-', lw=1.5, color=colormap[4], label=r\"$\\widebar{m}_L$\")\n",
    "ax.plot(sol.t[n0:n], sol.y[5,n0:n], '-', lw=1.5, color=colormap[5], label=r\"$\\widebar{m}_S$\")\n",
    "ax.plot(sol.t[n0:n], sol.y[6,n0:n], '-', lw=1.5, color=colormap[6], label=r\"$\\widebar{cL}$\")\n",
    "ax.plot(sol.t[n0:n], sol.y[7,n0:n], '-', lw=1.5, color=colormap[7], label=r\"$\\widebar{O1}$\")\n",
    "ax.plot(sol.t[n0:n], sol.y[8,n0:n], '-', lw=1.5, color=colormap[8], label=r\"$\\widebar{bL}$\")\n",
    "\n",
    "# Label axes\n",
    "ax.set_title('Knock-S')\n",
    "ax.set_xlabel('Time, min')\n",
    "ax.set_ylabel('m.p.c.')\n",
    "ax.set_yscale('log')\n",
    "ax.axis('auto')\n",
    "ax.legend(bbox_to_anchor=[1.,1])\n",
    "plt.tight_layout()\n",
    "plt.show()"
   ]
  },
  {
   "cell_type": "code",
   "execution_count": null,
   "id": "6a4d0626-cf9d-4aa5-a23f-39f2213756e6",
   "metadata": {},
   "outputs": [],
   "source": []
  }
 ],
 "metadata": {
  "kernelspec": {
   "display_name": "Python 3 (ipykernel)",
   "language": "python",
   "name": "python3"
  },
  "language_info": {
   "codemirror_mode": {
    "name": "ipython",
    "version": 3
   },
   "file_extension": ".py",
   "mimetype": "text/x-python",
   "name": "python",
   "nbconvert_exporter": "python",
   "pygments_lexer": "ipython3",
   "version": "3.12.3"
  }
 },
 "nbformat": 4,
 "nbformat_minor": 5
}
